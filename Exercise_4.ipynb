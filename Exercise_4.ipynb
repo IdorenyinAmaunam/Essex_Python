{
  "nbformat": 4,
  "nbformat_minor": 0,
  "metadata": {
    "kernelspec": {
      "display_name": "Python 3",
      "language": "python",
      "name": "python3"
    },
    "language_info": {
      "codemirror_mode": {
        "name": "ipython",
        "version": 3
      },
      "file_extension": ".py",
      "mimetype": "text/x-python",
      "name": "python",
      "nbconvert_exporter": "python",
      "pygments_lexer": "ipython3",
      "version": "3.6.5"
    },
    "colab": {
      "name": "Exercise_4.ipynb",
      "provenance": [],
      "include_colab_link": true
    }
  },
  "cells": [
    {
      "cell_type": "markdown",
      "metadata": {
        "id": "view-in-github",
        "colab_type": "text"
      },
      "source": [
        "<a href=\"https://colab.research.google.com/github/IdorenyinAmaunam/Essex_Python/blob/main/Exercise_4.ipynb\" target=\"_parent\"><img src=\"https://colab.research.google.com/assets/colab-badge.svg\" alt=\"Open In Colab\"/></a>"
      ]
    },
    {
      "cell_type": "markdown",
      "metadata": {
        "id": "ww0ODXCJHsCi"
      },
      "source": [
        "### Strings\n",
        "Strings are ordered text based data which are represented by enclosing the same in single/double/triple quotes."
      ]
    },
    {
      "cell_type": "code",
      "metadata": {
        "id": "55udLE1IHsCj"
      },
      "source": [
        "String0 = 'Paris is beautiful'\n",
        "String1 = \"Paris is beautiful\"\n",
        "String2 = '''Paris\n",
        "is\n",
        "beautiful'''"
      ],
      "execution_count": 1,
      "outputs": []
    },
    {
      "cell_type": "code",
      "metadata": {
        "id": "U0jyylXWHsCk",
        "outputId": "42d2bfcf-9add-4a58-a6d9-844cc73b578d",
        "colab": {
          "base_uri": "https://localhost:8080/"
        }
      },
      "source": [
        "print(String0 , type(String0))\n",
        "print(String1, type(String1))\n",
        "print(String2, type(String2))"
      ],
      "execution_count": 2,
      "outputs": [
        {
          "output_type": "stream",
          "name": "stdout",
          "text": [
            "Paris is beautiful <class 'str'>\n",
            "Paris is beautiful <class 'str'>\n",
            "Paris\n",
            "is\n",
            "beautiful <class 'str'>\n"
          ]
        }
      ]
    },
    {
      "cell_type": "code",
      "metadata": {
        "id": "AAuBHA88HsCl",
        "outputId": "28269f4e-4a1f-4e77-8e24-a7c7fe7ec874",
        "colab": {
          "base_uri": "https://localhost:8080/"
        }
      },
      "source": [
        "print(String0[4])\n",
        "print(String0[4:])"
      ],
      "execution_count": 4,
      "outputs": [
        {
          "output_type": "stream",
          "name": "stdout",
          "text": [
            "s\n",
            "s is beautiful\n"
          ]
        }
      ]
    },
    {
      "cell_type": "code",
      "metadata": {
        "id": "7awqW-Z4HsCl",
        "outputId": "7279275e-108b-4202-eb05-b5b4e80889ed",
        "colab": {
          "base_uri": "https://localhost:8080/"
        }
      },
      "source": [
        "print(String0.find('ri'))\n",
        "print(String0.find('za'))\n",
        "\n",
        "print(String0.find('y'))"
      ],
      "execution_count": 8,
      "outputs": [
        {
          "output_type": "stream",
          "name": "stdout",
          "text": [
            "2\n",
            "-1\n",
            "-1\n"
          ]
        }
      ]
    },
    {
      "cell_type": "code",
      "metadata": {
        "id": "UAT1Sx2-HsCm",
        "outputId": "07bdb112-30d7-481b-fec1-60f0ae28c340",
        "colab": {
          "base_uri": "https://localhost:8080/"
        }
      },
      "source": [
        "String3 = 'observe the first letter in this sentence.'\n",
        "String3 = String3.capitalize()\n",
        "print(String3)\n",
        "String3 = String3.upper()\n",
        "print(String3)"
      ],
      "execution_count": 20,
      "outputs": [
        {
          "output_type": "stream",
          "name": "stdout",
          "text": [
            "Observe the first letter in this sentence.\n",
            "OBSERVE THE FIRST LETTER IN THIS SENTENCE.\n"
          ]
        }
      ]
    },
    {
      "cell_type": "code",
      "metadata": {
        "id": "72JwNj1wHsCm",
        "outputId": "4b62af33-44b1-4690-d980-8d04f4843a9e",
        "colab": {
          "base_uri": "https://localhost:8080/",
          "height": 35
        }
      },
      "source": [
        "String0.center(70)"
      ],
      "execution_count": 11,
      "outputs": [
        {
          "output_type": "execute_result",
          "data": {
            "text/plain": [
              "'                          Paris is beautiful                          '"
            ],
            "application/vnd.google.colaboratory.intrinsic+json": {
              "type": "string"
            }
          },
          "metadata": {},
          "execution_count": 11
        }
      ]
    },
    {
      "cell_type": "code",
      "metadata": {
        "id": "6yJ3gsG6HsCn",
        "outputId": "48dab395-76c1-46d5-c56e-8b5c10836615",
        "colab": {
          "base_uri": "https://localhost:8080/"
        }
      },
      "source": [
        "print(String0.endswith('s'))"
      ],
      "execution_count": 12,
      "outputs": [
        {
          "output_type": "stream",
          "name": "stdout",
          "text": [
            "False\n"
          ]
        }
      ]
    },
    {
      "cell_type": "code",
      "metadata": {
        "id": "FjC2JFkmHsCo",
        "outputId": "b7d9bc61-5c78-46be-e5ae-69d7e12b01ee",
        "colab": {
          "base_uri": "https://localhost:8080/"
        }
      },
      "source": [
        "print(String0.count('a',0))"
      ],
      "execution_count": 13,
      "outputs": [
        {
          "output_type": "stream",
          "name": "stdout",
          "text": [
            "2\n"
          ]
        }
      ]
    },
    {
      "cell_type": "code",
      "metadata": {
        "id": "gxKXCa9PHsCp",
        "outputId": "8d47a2a2-80f7-41d9-b153-e43029e8a4fd",
        "colab": {
          "base_uri": "https://localhost:8080/"
        }
      },
      "source": [
        "print(String0.count('a',1,10))"
      ],
      "execution_count": 14,
      "outputs": [
        {
          "output_type": "stream",
          "name": "stdout",
          "text": [
            "1\n"
          ]
        }
      ]
    },
    {
      "cell_type": "code",
      "metadata": {
        "id": "vId7rFoGHsCp",
        "outputId": "5f083f4d-0bca-4233-a387-f53651e27405",
        "colab": {
          "base_uri": "https://localhost:8080/",
          "height": 35
        }
      },
      "source": [
        "String0.upper()"
      ],
      "execution_count": 15,
      "outputs": [
        {
          "output_type": "execute_result",
          "data": {
            "text/plain": [
              "'PARIS IS BEAUTIFUL'"
            ],
            "application/vnd.google.colaboratory.intrinsic+json": {
              "type": "string"
            }
          },
          "metadata": {},
          "execution_count": 15
        }
      ]
    },
    {
      "cell_type": "markdown",
      "metadata": {
        "id": "XNurNtUGHsCq"
      },
      "source": [
        "## Dictionaries\n",
        "Dictionaries are more used like a database because here you can index a particular sequence with your user defined string.\n",
        "\n",
        "To define a dictionary, equate a variable to { } or dict()"
      ]
    },
    {
      "cell_type": "code",
      "metadata": {
        "id": "fEWd6ZjmHsCq",
        "outputId": "4001f6f6-a2ae-4c8d-da08-89b60c9feab3",
        "colab": {
          "base_uri": "https://localhost:8080/"
        }
      },
      "source": [
        "d0 = {}\n",
        "d1 = dict()\n",
        "print(type(d0), type(d1))"
      ],
      "execution_count": 21,
      "outputs": [
        {
          "output_type": "stream",
          "name": "stdout",
          "text": [
            "<class 'dict'> <class 'dict'>\n"
          ]
        }
      ]
    },
    {
      "cell_type": "code",
      "metadata": {
        "id": "ablooHW5HsCr",
        "outputId": "d15edf65-b240-4716-bac7-5e1eeb60ff65",
        "colab": {
          "base_uri": "https://localhost:8080/"
        }
      },
      "source": [
        "# Dictionary works somewhat like a list but with an added capability of assigning it's own index style.\n",
        "d0['One'] = 1\n",
        "d0['OneTwo'] = 12 \n",
        "print(d0)"
      ],
      "execution_count": 22,
      "outputs": [
        {
          "output_type": "stream",
          "name": "stdout",
          "text": [
            "{'One': 1, 'OneTwo': 12}\n"
          ]
        }
      ]
    },
    {
      "cell_type": "code",
      "metadata": {
        "id": "o7jCRy8eHsCr",
        "outputId": "708adbc9-40b4-479b-f7d5-8ddfaf4f0237",
        "colab": {
          "base_uri": "https://localhost:8080/"
        }
      },
      "source": [
        "# That is how a dictionary looks like. Now you are able to access '1' by the index value set at 'One'\n",
        "print(d0[\"One\"])"
      ],
      "execution_count": 26,
      "outputs": [
        {
          "output_type": "stream",
          "name": "stdout",
          "text": [
            "1\n"
          ]
        }
      ]
    },
    {
      "cell_type": "code",
      "metadata": {
        "id": "YH65DKKtHsCr"
      },
      "source": [
        "# Two lists which are related can be merged to form a dictionary.\n",
        "keys = ['One', 'Two', 'Three', 'Four', 'Five']\n",
        "values = [1, 2, 3, 4, 5]"
      ],
      "execution_count": 34,
      "outputs": []
    },
    {
      "cell_type": "code",
      "metadata": {
        "id": "SL22risrHsCs",
        "outputId": "e291c908-3f69-4407-aed3-085772b97768",
        "colab": {
          "base_uri": "https://localhost:8080/"
        }
      },
      "source": [
        "# zip( ) function is used to combine two lists\n",
        "dictionary = dict(zip(keys, values))\n",
        "print(dictionary)"
      ],
      "execution_count": 35,
      "outputs": [
        {
          "output_type": "stream",
          "name": "stdout",
          "text": [
            "{'One': 1, 'Two': 2, 'Three': 3, 'Four': 4, 'Five': 5}\n"
          ]
        }
      ]
    },
    {
      "cell_type": "markdown",
      "metadata": {
        "id": "aj-YwAu-HsCs"
      },
      "source": [
        "## Control Flow Statements"
      ]
    },
    {
      "cell_type": "code",
      "metadata": {
        "id": "30BalWc_HsCs",
        "outputId": "50e989b7-bc13-4044-9ab6-a12af97143ed",
        "colab": {
          "base_uri": "https://localhost:8080/"
        }
      },
      "source": [
        "x = 12\n",
        "if x >10:\n",
        "  print(\"Hello\")"
      ],
      "execution_count": 40,
      "outputs": [
        {
          "output_type": "stream",
          "name": "stdout",
          "text": [
            "Hello\n"
          ]
        }
      ]
    },
    {
      "cell_type": "code",
      "metadata": {
        "id": "TtqsIirfHsCs",
        "outputId": "c7fd6076-b264-4e6b-c7ff-e3837c16ba90",
        "colab": {
          "base_uri": "https://localhost:8080/"
        }
      },
      "source": [
        "x = 12\n",
        "if x > 10:\n",
        "    print(\"hello\")\n",
        "else:\n",
        "    print(\"world\")"
      ],
      "execution_count": 37,
      "outputs": [
        {
          "output_type": "stream",
          "name": "stdout",
          "text": [
            "hello\n"
          ]
        }
      ]
    },
    {
      "cell_type": "code",
      "metadata": {
        "id": "dW_LVyNwHsCt",
        "outputId": "262ea061-688e-48a5-df1e-a00c78e9ae96",
        "colab": {
          "base_uri": "https://localhost:8080/"
        }
      },
      "source": [
        "x = 10\n",
        "y = 12\n",
        "if x > y:\n",
        "    print(\"x>y\")\n",
        "elif x < y:\n",
        "    print(\"x<y\")\n",
        "else:\n",
        "    print(\"x=y\")"
      ],
      "execution_count": 38,
      "outputs": [
        {
          "output_type": "stream",
          "name": "stdout",
          "text": [
            "x<y\n"
          ]
        }
      ]
    },
    {
      "cell_type": "code",
      "metadata": {
        "id": "fNGd2ZTSHsCt",
        "outputId": "a0daff6c-a71e-41e7-b27b-8ab64416a2a9",
        "colab": {
          "base_uri": "https://localhost:8080/"
        }
      },
      "source": [
        "x = 10\n",
        "y = 12\n",
        "if x > y:\n",
        "    print(\"x>y\")\n",
        "elif x < y:\n",
        "    print(\"x<y\")\n",
        "    if x==10:\n",
        "        print(\"x=10\")\n",
        "    else:\n",
        "        print(\"invalid\")\n",
        "else:\n",
        "    print(\"x=y\")"
      ],
      "execution_count": 41,
      "outputs": [
        {
          "output_type": "stream",
          "name": "stdout",
          "text": [
            "x<y\n",
            "x=10\n"
          ]
        }
      ]
    },
    {
      "cell_type": "markdown",
      "metadata": {
        "id": "Vc8jtpXVHsCt"
      },
      "source": [
        "## Loops"
      ]
    },
    {
      "cell_type": "code",
      "metadata": {
        "id": "imO2uRoSHsCt",
        "outputId": "c6124f28-a272-41a2-dbf8-8e8507933ad6",
        "colab": {
          "base_uri": "https://localhost:8080/"
        }
      },
      "source": [
        "for i in range(5):\n",
        "    print(i)"
      ],
      "execution_count": 42,
      "outputs": [
        {
          "output_type": "stream",
          "name": "stdout",
          "text": [
            "0\n",
            "1\n",
            "2\n",
            "3\n",
            "4\n"
          ]
        }
      ]
    },
    {
      "cell_type": "code",
      "metadata": {
        "id": "N3YyX-NRHsCt",
        "outputId": "0b99ee42-7139-4f78-99c0-2888b2ab9deb",
        "colab": {
          "base_uri": "https://localhost:8080/"
        }
      },
      "source": [
        "list_of_lists = [[1, 2, 3], [4, 5, 6], [7, 8, 9]]\n",
        "for list1 in list_of_lists:\n",
        "        print(list1)"
      ],
      "execution_count": 43,
      "outputs": [
        {
          "output_type": "stream",
          "name": "stdout",
          "text": [
            "[1, 2, 3]\n",
            "[4, 5, 6]\n",
            "[7, 8, 9]\n"
          ]
        }
      ]
    },
    {
      "cell_type": "code",
      "metadata": {
        "id": "wtMW7Eq0HsCu",
        "outputId": "df64a5c6-ff2a-4581-95e8-b2c909344bde",
        "colab": {
          "base_uri": "https://localhost:8080/"
        }
      },
      "source": [
        "list_of_lists = [[1, 2, 3], [4, 5, 6], [7, 8, 9]]\n",
        "for list1 in list_of_lists:\n",
        "    for x in list1:\n",
        "        print(x)"
      ],
      "execution_count": 44,
      "outputs": [
        {
          "output_type": "stream",
          "name": "stdout",
          "text": [
            "1\n",
            "2\n",
            "3\n",
            "4\n",
            "5\n",
            "6\n",
            "7\n",
            "8\n",
            "9\n"
          ]
        }
      ]
    },
    {
      "cell_type": "markdown",
      "metadata": {
        "id": "CgiqGz42HsCu"
      },
      "source": [
        "## While"
      ]
    },
    {
      "cell_type": "code",
      "metadata": {
        "id": "YbpkK5hRHsCu",
        "outputId": "6bb69ab1-3328-49fb-c44b-cca38017e3f1",
        "colab": {
          "base_uri": "https://localhost:8080/"
        }
      },
      "source": [
        "i = 1\n",
        "while i < 3:\n",
        "    print(i ** 2)\n",
        "    i = i+1\n",
        "print('Bye')"
      ],
      "execution_count": 49,
      "outputs": [
        {
          "output_type": "stream",
          "name": "stdout",
          "text": [
            "1\n",
            "4\n",
            "Bye\n"
          ]
        }
      ]
    },
    {
      "cell_type": "markdown",
      "metadata": {
        "id": "WFDyHlc1HsCu"
      },
      "source": [
        "## Break\n",
        "As the name says. It is used to break out of a loop when a condition becomes true when executing the loop."
      ]
    },
    {
      "cell_type": "code",
      "metadata": {
        "id": "m1EhczXLHsCv",
        "outputId": "52db71e4-7c91-466f-ef81-0a7458971fbe",
        "colab": {
          "base_uri": "https://localhost:8080/"
        }
      },
      "source": [
        "for i in range(100):\n",
        "    print(i)\n",
        "    if i>=7:\n",
        "        break"
      ],
      "execution_count": 50,
      "outputs": [
        {
          "output_type": "stream",
          "name": "stdout",
          "text": [
            "0\n",
            "1\n",
            "2\n",
            "3\n",
            "4\n",
            "5\n",
            "6\n",
            "7\n"
          ]
        }
      ]
    },
    {
      "cell_type": "markdown",
      "metadata": {
        "id": "c4f58ztDHsCv"
      },
      "source": [
        "## Continue\n",
        "This continues the rest of the loop. Sometimes when a condition is satisfied there are chances of the loop getting terminated. This can be avoided using continue statement."
      ]
    },
    {
      "cell_type": "code",
      "metadata": {
        "id": "RxBaXlZ8HsCv",
        "outputId": "ebe353eb-fc15-4e77-db38-16fd8f2207c5",
        "colab": {
          "base_uri": "https://localhost:8080/"
        }
      },
      "source": [
        "for i in range(10):\n",
        "    if i>4:\n",
        "        print(\"The end.\")\n",
        "        continue\n",
        "    elif i<7:\n",
        "        print(i)"
      ],
      "execution_count": 51,
      "outputs": [
        {
          "output_type": "stream",
          "name": "stdout",
          "text": [
            "0\n",
            "1\n",
            "2\n",
            "3\n",
            "4\n",
            "The end.\n",
            "The end.\n",
            "The end.\n",
            "The end.\n",
            "The end.\n"
          ]
        }
      ]
    },
    {
      "cell_type": "markdown",
      "metadata": {
        "id": "5N-2y4mYHsCv"
      },
      "source": [
        "### List Comprehensions\n",
        "Python makes it simple to generate a required list with a single line of code using list comprehensions. For example If i need to generate multiples of say 27 I write the code using for loop as,"
      ]
    },
    {
      "cell_type": "code",
      "metadata": {
        "id": "-g_CB3YsHsCv",
        "outputId": "c721ad69-335b-4f17-dba4-8e9e22bab255",
        "colab": {
          "base_uri": "https://localhost:8080/"
        }
      },
      "source": [
        "res = []\n",
        "for i in range(1,11):\n",
        "    x = 27*i\n",
        "    res.append(x)\n",
        "print(res)"
      ],
      "execution_count": 52,
      "outputs": [
        {
          "output_type": "stream",
          "name": "stdout",
          "text": [
            "[27, 54, 81, 108, 135, 162, 189, 216, 243, 270]\n"
          ]
        }
      ]
    },
    {
      "cell_type": "markdown",
      "metadata": {
        "id": "sNY2ge15HsCv"
      },
      "source": [
        "Since you are generating another list altogether and that is what is required, List comprehensions is a more efficient way to solve this problem."
      ]
    },
    {
      "cell_type": "code",
      "metadata": {
        "id": "LFIZCaZlHsCw",
        "outputId": "a82481c4-c452-4411-fede-cbda73e86d18",
        "colab": {
          "base_uri": "https://localhost:8080/"
        }
      },
      "source": [
        "[27*x for x in range(1,11)]\n",
        "\n"
      ],
      "execution_count": 55,
      "outputs": [
        {
          "output_type": "execute_result",
          "data": {
            "text/plain": [
              "[27, 54, 81, 108, 135, 162, 189, 216, 243, 270]"
            ]
          },
          "metadata": {},
          "execution_count": 55
        }
      ]
    },
    {
      "cell_type": "code",
      "metadata": {
        "id": "sZer4U_WHsCw",
        "outputId": "3f620055-0890-4936-97b4-edf1fcea725b",
        "colab": {
          "base_uri": "https://localhost:8080/"
        }
      },
      "source": [
        "y= 1/2\n",
        "jeps = [2 *y for y in range(10)]\n",
        "\n",
        "print(jeps)"
      ],
      "execution_count": 58,
      "outputs": [
        {
          "output_type": "stream",
          "name": "stdout",
          "text": [
            "[0, 2, 4, 6, 8, 10, 12, 14, 16, 18]\n"
          ]
        }
      ]
    }
  ]
}