{
  "nbformat": 4,
  "nbformat_minor": 0,
  "metadata": {
    "kernelspec": {
      "display_name": "Python 3",
      "language": "python",
      "name": "python3"
    },
    "language_info": {
      "codemirror_mode": {
        "name": "ipython",
        "version": 3
      },
      "file_extension": ".py",
      "mimetype": "text/x-python",
      "name": "python",
      "nbconvert_exporter": "python",
      "pygments_lexer": "ipython3",
      "version": "3.6.5"
    },
    "colab": {
      "name": "Exercise_3.ipynb",
      "provenance": [],
      "include_colab_link": true
    }
  },
  "cells": [
    {
      "cell_type": "markdown",
      "metadata": {
        "id": "view-in-github",
        "colab_type": "text"
      },
      "source": [
        "<a href=\"https://colab.research.google.com/github/IdorenyinAmaunam/Essex_Python/blob/main/Exercise_3.ipynb\" target=\"_parent\"><img src=\"https://colab.research.google.com/assets/colab-badge.svg\" alt=\"Open In Colab\"/></a>"
      ]
    },
    {
      "cell_type": "markdown",
      "metadata": {
        "id": "XfN7-6YaXbbK"
      },
      "source": [
        "### Data Structures\n",
        "In simple terms, It is the the collection or group of data in a particular structure.\n",
        "\n",
        "#### Lists\n",
        "Lists are the most commonly used data structure. Think of it as a sequence of data that is enclosed in square brackets and data are separated by a comma. Each of these data can be accessed by calling it's index value.\n",
        "\n",
        "Lists are declared by just equating a variable to '[ ]' or list."
      ]
    },
    {
      "cell_type": "code",
      "metadata": {
        "id": "cM_nLhIlXbbL"
      },
      "source": [
        "a = []"
      ],
      "execution_count": 2,
      "outputs": []
    },
    {
      "cell_type": "code",
      "metadata": {
        "id": "Ei8ovijqXbbL",
        "outputId": "2249f623-0d71-4d16-b7e6-0a9d78494cd8",
        "colab": {
          "base_uri": "https://localhost:8080/"
        }
      },
      "source": [
        "print(type(a))"
      ],
      "execution_count": 3,
      "outputs": [
        {
          "output_type": "stream",
          "name": "stdout",
          "text": [
            "<class 'list'>\n"
          ]
        }
      ]
    },
    {
      "cell_type": "code",
      "metadata": {
        "id": "nVzzywWBXbbL"
      },
      "source": [
        "x = ['apple', 'orange', 'banana']"
      ],
      "execution_count": 4,
      "outputs": []
    },
    {
      "cell_type": "code",
      "metadata": {
        "id": "kdqvNVzgXbbM",
        "outputId": "65b1759a-aee9-4960-b323-248a45db2ded",
        "colab": {
          "base_uri": "https://localhost:8080/",
          "height": 35
        }
      },
      "source": [
        "x[1]"
      ],
      "execution_count": 5,
      "outputs": [
        {
          "output_type": "execute_result",
          "data": {
            "text/plain": [
              "'orange'"
            ],
            "application/vnd.google.colaboratory.intrinsic+json": {
              "type": "string"
            }
          },
          "metadata": {},
          "execution_count": 5
        }
      ]
    },
    {
      "cell_type": "code",
      "metadata": {
        "id": "WTyPFJULXbbM"
      },
      "source": [
        "## Indexing can also be done in reverse order. That is the last element can be accessed first.\n",
        "# Here, indexing starts from -1. Thus index value -1 will be orange and index -2 will be apple."
      ],
      "execution_count": 6,
      "outputs": []
    },
    {
      "cell_type": "code",
      "metadata": {
        "id": "kU1fr9sZXbbM",
        "outputId": "629b8646-c15d-4222-bc23-25396ae21675",
        "colab": {
          "base_uri": "https://localhost:8080/",
          "height": 35
        }
      },
      "source": [
        "x[-2]\n",
        "\n"
      ],
      "execution_count": 22,
      "outputs": [
        {
          "output_type": "execute_result",
          "data": {
            "text/plain": [
              "'orange'"
            ],
            "application/vnd.google.colaboratory.intrinsic+json": {
              "type": "string"
            }
          },
          "metadata": {},
          "execution_count": 22
        }
      ]
    },
    {
      "cell_type": "markdown",
      "metadata": {
        "id": "6XGCCTuTXbbM"
      },
      "source": [
        "As you might have already guessed, x[0] = x[-2], x[1] = x[-1]. This concept can be extended towards lists with more many elements."
      ]
    },
    {
      "cell_type": "code",
      "metadata": {
        "id": "6DrkZPfCXbbM"
      },
      "source": [
        "y = ['carrot','potato']"
      ],
      "execution_count": 8,
      "outputs": []
    },
    {
      "cell_type": "code",
      "metadata": {
        "id": "7Z7Wgpl4XbbM",
        "outputId": "0c46d6c1-3611-4701-bef6-e664bdc47644",
        "colab": {
          "base_uri": "https://localhost:8080/"
        }
      },
      "source": [
        "z  = [x,y]\n",
        "print(z)"
      ],
      "execution_count": 9,
      "outputs": [
        {
          "output_type": "stream",
          "name": "stdout",
          "text": [
            "[['apple', 'orange', 'banana'], ['carrot', 'potato']]\n"
          ]
        }
      ]
    },
    {
      "cell_type": "code",
      "metadata": {
        "id": "IwSRpnk-XbbN",
        "outputId": "0682e402-abde-49bf-cb5b-e3f7a6dd8338",
        "colab": {
          "base_uri": "https://localhost:8080/"
        }
      },
      "source": [
        "z1 = z[1][1]\n",
        "print(z1)"
      ],
      "execution_count": 13,
      "outputs": [
        {
          "output_type": "stream",
          "name": "stdout",
          "text": [
            "potato\n"
          ]
        }
      ]
    },
    {
      "cell_type": "code",
      "metadata": {
        "id": "HDaxh2zqXbbN",
        "outputId": "0e086101-d9ef-43d5-f170-844863fa942e",
        "colab": {
          "base_uri": "https://localhost:8080/",
          "height": 35
        }
      },
      "source": [
        "z[0][0]"
      ],
      "execution_count": 14,
      "outputs": [
        {
          "output_type": "execute_result",
          "data": {
            "text/plain": [
              "'apple'"
            ],
            "application/vnd.google.colaboratory.intrinsic+json": {
              "type": "string"
            }
          },
          "metadata": {},
          "execution_count": 14
        }
      ]
    },
    {
      "cell_type": "markdown",
      "metadata": {
        "id": "iG1tH8toXbbN"
      },
      "source": [
        "## Slicing\n",
        "Indexing was only limited to accessing a single element, Slicing on the other hand is accessing a sequence of data inside the list. In other words \"slicing\" the list.\n",
        "\n",
        "Slicing is done by defining the index values of the first element and the last element from the parent list that is required in the sliced list. It is written as parentlist[ a : b ] where a,b are the index values from the parent list. If a or b is not defined then the index value is considered to be the first value for a if a is not defined and the last value for b when b is not defined."
      ]
    },
    {
      "cell_type": "code",
      "metadata": {
        "id": "9JlE3q9QXbbN"
      },
      "source": [
        "num = [0,1,2,3,4,5,6,7,8,9]"
      ],
      "execution_count": 15,
      "outputs": []
    },
    {
      "cell_type": "code",
      "metadata": {
        "id": "PP9T9UmMXbbN",
        "outputId": "19f76938-56c3-4676-f836-584faf30b5d8",
        "colab": {
          "base_uri": "https://localhost:8080/"
        }
      },
      "source": [
        "print(num[0:4])\n",
        "print(num[4:])"
      ],
      "execution_count": 16,
      "outputs": [
        {
          "output_type": "stream",
          "name": "stdout",
          "text": [
            "[0, 1, 2, 3]\n",
            "[4, 5, 6, 7, 8, 9]\n"
          ]
        }
      ]
    },
    {
      "cell_type": "code",
      "metadata": {
        "id": "w0LLPluaXbbO",
        "outputId": "7df31555-4963-44ff-f0ba-435881a27339",
        "colab": {
          "base_uri": "https://localhost:8080/"
        }
      },
      "source": [
        "num[: :3]"
      ],
      "execution_count": 20,
      "outputs": [
        {
          "output_type": "execute_result",
          "data": {
            "text/plain": [
              "[0, 3, 6, 9]"
            ]
          },
          "metadata": {},
          "execution_count": 20
        }
      ]
    },
    {
      "cell_type": "code",
      "metadata": {
        "id": "F_ktCA5-XbbO",
        "outputId": "98855938-ec06-4242-88cb-c4f20c0fde1e",
        "colab": {
          "base_uri": "https://localhost:8080/"
        }
      },
      "source": [
        "len(num)"
      ],
      "execution_count": 23,
      "outputs": [
        {
          "output_type": "execute_result",
          "data": {
            "text/plain": [
              "10"
            ]
          },
          "metadata": {},
          "execution_count": 23
        }
      ]
    },
    {
      "cell_type": "code",
      "metadata": {
        "id": "sxuEx55nXbbO",
        "outputId": "a0efece4-e77f-49ef-a8d1-a6a90ffff304",
        "colab": {
          "base_uri": "https://localhost:8080/"
        }
      },
      "source": [
        "min(num)"
      ],
      "execution_count": 24,
      "outputs": [
        {
          "output_type": "execute_result",
          "data": {
            "text/plain": [
              "0"
            ]
          },
          "metadata": {},
          "execution_count": 24
        }
      ]
    },
    {
      "cell_type": "code",
      "metadata": {
        "id": "vdGBeHVCXbbO",
        "outputId": "50339f01-a7ca-41d9-8d0f-f01190621415",
        "colab": {
          "base_uri": "https://localhost:8080/"
        }
      },
      "source": [
        "max(num)"
      ],
      "execution_count": 25,
      "outputs": [
        {
          "output_type": "execute_result",
          "data": {
            "text/plain": [
              "9"
            ]
          },
          "metadata": {},
          "execution_count": 25
        }
      ]
    },
    {
      "cell_type": "markdown",
      "metadata": {
        "id": "NZqa1C3KXbbP"
      },
      "source": [
        "Lists can be concatenated by adding, '+' them. The resultant list will contain all the elements of the lists that were added. The resultant list will not be a nested list."
      ]
    },
    {
      "cell_type": "code",
      "metadata": {
        "id": "M0j9o6_4XbbP",
        "outputId": "00305df2-4b88-45e2-9777-e9ccd166ece8",
        "colab": {
          "base_uri": "https://localhost:8080/"
        }
      },
      "source": [
        "[1,2,3] + [5,4,7]"
      ],
      "execution_count": 26,
      "outputs": [
        {
          "output_type": "execute_result",
          "data": {
            "text/plain": [
              "[1, 2, 3, 5, 4, 7]"
            ]
          },
          "metadata": {},
          "execution_count": 26
        }
      ]
    },
    {
      "cell_type": "markdown",
      "metadata": {
        "id": "q9ETRq5_XbbP"
      },
      "source": [
        "There might arise a requirement where you might need to check if a particular element is there in a predefined list. Consider the below list."
      ]
    },
    {
      "cell_type": "code",
      "metadata": {
        "id": "bzfJznO4XbbP"
      },
      "source": [
        "names = ['Earth','Air','Fire','Water']"
      ],
      "execution_count": 28,
      "outputs": []
    },
    {
      "cell_type": "code",
      "metadata": {
        "id": "jcdHvQaGXbbP",
        "outputId": "7561372d-63eb-49b9-940e-f263c2d1cafb",
        "colab": {
          "base_uri": "https://localhost:8080/"
        }
      },
      "source": [
        "'Fire' in names"
      ],
      "execution_count": 29,
      "outputs": [
        {
          "output_type": "execute_result",
          "data": {
            "text/plain": [
              "True"
            ]
          },
          "metadata": {},
          "execution_count": 29
        }
      ]
    },
    {
      "cell_type": "code",
      "metadata": {
        "id": "vbyCnPh-XbbP",
        "outputId": "6279bbe3-7e94-4012-9f51-e9f30924e908",
        "colab": {
          "base_uri": "https://localhost:8080/"
        }
      },
      "source": [
        "'Smith' in names"
      ],
      "execution_count": 30,
      "outputs": [
        {
          "output_type": "execute_result",
          "data": {
            "text/plain": [
              "False"
            ]
          },
          "metadata": {},
          "execution_count": 30
        }
      ]
    },
    {
      "cell_type": "markdown",
      "metadata": {
        "id": "uwmMHlbHXbbQ"
      },
      "source": [
        "## Append "
      ]
    },
    {
      "cell_type": "code",
      "metadata": {
        "id": "CAHjMCIYXbbQ"
      },
      "source": [
        "lst_me = [1,1,4,8,7]"
      ],
      "execution_count": 92,
      "outputs": []
    },
    {
      "cell_type": "code",
      "metadata": {
        "id": "5pe4GA66XbbQ",
        "outputId": "ec7e726a-31b8-4a06-af9f-b5dc26897e26",
        "colab": {
          "base_uri": "https://localhost:8080/"
        }
      },
      "source": [
        "\n",
        "lst_me.append(1)\n",
        "print(lst_me)\n",
        "\n"
      ],
      "execution_count": 93,
      "outputs": [
        {
          "output_type": "stream",
          "name": "stdout",
          "text": [
            "[1, 1, 4, 8, 7, 1]\n"
          ]
        }
      ]
    },
    {
      "cell_type": "code",
      "metadata": {
        "id": "hWn3Ebk1XbbQ",
        "outputId": "e09ade1f-2d7d-4458-e5a4-3589b9e17193",
        "colab": {
          "base_uri": "https://localhost:8080/"
        }
      },
      "source": [
        "lst_me.count(1)"
      ],
      "execution_count": 95,
      "outputs": [
        {
          "output_type": "execute_result",
          "data": {
            "text/plain": [
              "3"
            ]
          },
          "metadata": {},
          "execution_count": 95
        }
      ]
    },
    {
      "cell_type": "markdown",
      "metadata": {
        "id": "63gSPDl9XbbQ"
      },
      "source": [
        "append( ) function can also be used to add a entire list at the end. Observe that the resultant list becomes a nested list."
      ]
    },
    {
      "cell_type": "code",
      "metadata": {
        "id": "tKr3uYXYXbbQ"
      },
      "source": [
        "lst1 = [5,4,2,8]"
      ],
      "execution_count": 96,
      "outputs": []
    },
    {
      "cell_type": "code",
      "metadata": {
        "id": "V5zJvXMGXbbR",
        "outputId": "c2ddfcbd-7320-431b-d4b4-249668095ada",
        "colab": {
          "base_uri": "https://localhost:8080/"
        }
      },
      "source": [
        "lst_me.append(lst1)\n",
        "print(lst_me)"
      ],
      "execution_count": 97,
      "outputs": [
        {
          "output_type": "stream",
          "name": "stdout",
          "text": [
            "[1, 1, 4, 8, 7, 1, [5, 4, 2, 8]]\n"
          ]
        }
      ]
    },
    {
      "cell_type": "markdown",
      "metadata": {
        "id": "HAPt84CCXbbR"
      },
      "source": [
        "But if nested list is not what is desired then extend( ) function can be used."
      ]
    },
    {
      "cell_type": "code",
      "metadata": {
        "id": "YEQUx6vzXbbR",
        "outputId": "c066a455-7a52-4ad2-c0bc-ebd375cffae1",
        "colab": {
          "base_uri": "https://localhost:8080/"
        }
      },
      "source": [
        "lst_me.extend(lst1)\n",
        "print(lst_me)"
      ],
      "execution_count": 98,
      "outputs": [
        {
          "output_type": "stream",
          "name": "stdout",
          "text": [
            "[1, 1, 4, 8, 7, 1, [5, 4, 2, 8], 5, 4, 2, 8]\n"
          ]
        }
      ]
    },
    {
      "cell_type": "code",
      "metadata": {
        "id": "XIrfdwyUXbbR",
        "outputId": "811bfc88-f95c-4441-fcc6-d144350965cb",
        "colab": {
          "base_uri": "https://localhost:8080/"
        }
      },
      "source": [
        "lst_me[6].index(2)"
      ],
      "execution_count": 113,
      "outputs": [
        {
          "output_type": "execute_result",
          "data": {
            "text/plain": [
              "2"
            ]
          },
          "metadata": {},
          "execution_count": 113
        }
      ]
    },
    {
      "cell_type": "markdown",
      "metadata": {
        "id": "Db94LtOoXbbR"
      },
      "source": [
        "insert(x,y) is used to insert a element y at a specified index value x. append( ) function made it only possible to insert at the end."
      ]
    },
    {
      "cell_type": "code",
      "metadata": {
        "id": "XkGvj3CeXbbR",
        "outputId": "e8075156-ffd3-4c46-f149-b3d7314adba9",
        "colab": {
          "base_uri": "https://localhost:8080/"
        }
      },
      "source": [
        "lst_me.insert(5, 'name')\n",
        "print(lst_me)"
      ],
      "execution_count": 114,
      "outputs": [
        {
          "output_type": "stream",
          "name": "stdout",
          "text": [
            "[1, 1, 4, 8, 7, 'name', 1, [5, 4, 2, 8], 5, 4, 2, 8]\n"
          ]
        }
      ]
    },
    {
      "cell_type": "markdown",
      "metadata": {
        "id": "hM-xpnAxXbbR"
      },
      "source": [
        "insert(x,y) inserts but does not replace element. If you want to replace the element with another element you simply assign the value to that particular index."
      ]
    },
    {
      "cell_type": "code",
      "metadata": {
        "id": "kIZSKyfUXbbR",
        "outputId": "ce3438b9-e37b-4d5a-d90d-bced4511c280",
        "colab": {
          "base_uri": "https://localhost:8080/"
        }
      },
      "source": [
        "lst_me[5] = 'Python'\n",
        "print(lst_me)"
      ],
      "execution_count": 115,
      "outputs": [
        {
          "output_type": "stream",
          "name": "stdout",
          "text": [
            "[1, 1, 4, 8, 7, 'Python', 1, [5, 4, 2, 8], 5, 4, 2, 8]\n"
          ]
        }
      ]
    },
    {
      "cell_type": "markdown",
      "metadata": {
        "id": "6oX-aroFXbbS"
      },
      "source": [
        "pop( ) function return the last element in the list. This is similar to the operation of a stack. Hence it wouldn't be wrong to tell that lists can be used as a stack."
      ]
    },
    {
      "cell_type": "code",
      "metadata": {
        "id": "oExBa8m_XbbS",
        "outputId": "ac0f0ee6-1968-4bb6-ad0c-8036159d8ed7",
        "colab": {
          "base_uri": "https://localhost:8080/"
        }
      },
      "source": [
        "lst_me.pop()"
      ],
      "execution_count": 116,
      "outputs": [
        {
          "output_type": "execute_result",
          "data": {
            "text/plain": [
              "8"
            ]
          },
          "metadata": {},
          "execution_count": 116
        }
      ]
    },
    {
      "cell_type": "markdown",
      "metadata": {
        "id": "riU9IMXxXbbS"
      },
      "source": [
        "Index value can be specified to pop a ceratin element corresponding to that index value."
      ]
    },
    {
      "cell_type": "code",
      "metadata": {
        "id": "WMzgei0DXbbS",
        "outputId": "f45b9d22-61c3-4c8f-8529-bf9af538b236",
        "colab": {
          "base_uri": "https://localhost:8080/"
        }
      },
      "source": [
        "lst_me.pop(0)"
      ],
      "execution_count": 117,
      "outputs": [
        {
          "output_type": "execute_result",
          "data": {
            "text/plain": [
              "1"
            ]
          },
          "metadata": {},
          "execution_count": 117
        }
      ]
    },
    {
      "cell_type": "code",
      "metadata": {
        "id": "KK70FH1YXbbS",
        "outputId": "78ec4175-6124-42d8-ebed-b0858c027a1a",
        "colab": {
          "base_uri": "https://localhost:8080/"
        }
      },
      "source": [
        "print(lst_me)"
      ],
      "execution_count": 118,
      "outputs": [
        {
          "output_type": "stream",
          "name": "stdout",
          "text": [
            "[1, 4, 8, 7, 'Python', 1, [5, 4, 2, 8], 5, 4, 2]\n"
          ]
        }
      ]
    },
    {
      "cell_type": "markdown",
      "metadata": {
        "id": "3tfUGdBDXbbS"
      },
      "source": [
        "pop( ) is used to remove element based on it's index value which can be assigned to a variable. One can also remove element by specifying the element itself using the remove( ) function."
      ]
    },
    {
      "cell_type": "code",
      "metadata": {
        "id": "P-qm1ogHXbbS",
        "outputId": "ba01e6b1-69d1-487c-d6ed-c97fc8a31eaf",
        "colab": {
          "base_uri": "https://localhost:8080/"
        }
      },
      "source": [
        "lst_me.remove('Python')\n",
        "print(lst)"
      ],
      "execution_count": 119,
      "outputs": [
        {
          "output_type": "stream",
          "name": "stdout",
          "text": [
            "[1, 1, 4, 8, 7, 'name', 1, 2, 1, 1, 1, 1, 5, 4, 2, 8, 5, 4, 2, 8, [5, 4, 2, 8], 5, 4, 2, 8, 1]\n"
          ]
        }
      ]
    },
    {
      "cell_type": "code",
      "metadata": {
        "id": "W6hSjs8OXbbT",
        "outputId": "e6993d32-f2e6-4822-b012-5a7a1aaa5060",
        "colab": {
          "base_uri": "https://localhost:8080/"
        }
      },
      "source": [
        "del(lst_me[1])\n",
        "print(lst_me)"
      ],
      "execution_count": 120,
      "outputs": [
        {
          "output_type": "stream",
          "name": "stdout",
          "text": [
            "[1, 8, 7, 1, [5, 4, 2, 8], 5, 4, 2]\n"
          ]
        }
      ]
    },
    {
      "cell_type": "markdown",
      "metadata": {
        "id": "vnoTDxb_XbbT"
      },
      "source": [
        "The entire elements present in the list can be reversed by using the reverse() function."
      ]
    },
    {
      "cell_type": "code",
      "metadata": {
        "id": "2Wmie0DVXbbT",
        "outputId": "06d334b7-f40b-4086-dc6a-e6af76e2b0a8",
        "colab": {
          "base_uri": "https://localhost:8080/"
        }
      },
      "source": [
        "lst_me.reverse()\n",
        "print(lst_me)"
      ],
      "execution_count": 121,
      "outputs": [
        {
          "output_type": "stream",
          "name": "stdout",
          "text": [
            "[2, 4, 5, [5, 4, 2, 8], 1, 7, 8, 1]\n"
          ]
        }
      ]
    },
    {
      "cell_type": "markdown",
      "metadata": {
        "id": "aQxeMf5pXbbT"
      },
      "source": [
        "Note that the nested list [5,4,2,8] is treated as a single element of the parent list lst. Thus the elements inside the nested list is not reversed.\n",
        "\n",
        "Python offers built in operation sort( ) to arrange the elements in ascending order."
      ]
    },
    {
      "cell_type": "markdown",
      "metadata": {
        "id": "YJWsxayjXbbT"
      },
      "source": [
        "## Build In Function\n"
      ]
    },
    {
      "cell_type": "code",
      "metadata": {
        "id": "Ffla5_TZXbbT"
      },
      "source": [
        "set1 = set([1,2,3])\n",
        "set2 = set([2,3,4,5])"
      ],
      "execution_count": 81,
      "outputs": []
    },
    {
      "cell_type": "code",
      "metadata": {
        "id": "aF3JvVsYXbbT",
        "outputId": "8015f1b9-6d20-41ae-983f-6f0f494461c1",
        "colab": {
          "base_uri": "https://localhost:8080/"
        }
      },
      "source": [
        "# union( ) function returns a set which contains all the elements of both the sets without repition.\n",
        "\n",
        "set1.union(set2)"
      ],
      "execution_count": 82,
      "outputs": [
        {
          "output_type": "execute_result",
          "data": {
            "text/plain": [
              "{1, 2, 3, 4, 5}"
            ]
          },
          "metadata": {},
          "execution_count": 82
        }
      ]
    },
    {
      "cell_type": "code",
      "metadata": {
        "id": "rYYUQVS1XbbU",
        "outputId": "060d98f0-c6c5-429b-f72e-24c21c6ce3ec",
        "colab": {
          "base_uri": "https://localhost:8080/"
        }
      },
      "source": [
        "set1.add(0)\n",
        "set1"
      ],
      "execution_count": 83,
      "outputs": [
        {
          "output_type": "execute_result",
          "data": {
            "text/plain": [
              "{0, 1, 2, 3}"
            ]
          },
          "metadata": {},
          "execution_count": 83
        }
      ]
    },
    {
      "cell_type": "code",
      "metadata": {
        "id": "eOz9cemeXbbU",
        "outputId": "f6d156ae-a1de-4f1a-b90d-f19dbe96dc2a",
        "colab": {
          "base_uri": "https://localhost:8080/"
        }
      },
      "source": [
        "set1.intersection(set2)"
      ],
      "execution_count": 84,
      "outputs": [
        {
          "output_type": "execute_result",
          "data": {
            "text/plain": [
              "{2, 3}"
            ]
          },
          "metadata": {},
          "execution_count": 84
        }
      ]
    },
    {
      "cell_type": "code",
      "metadata": {
        "id": "kW-QudEjXbbU",
        "outputId": "6d68bb1e-2039-4fd2-fde2-b818fa3f1fac",
        "colab": {
          "base_uri": "https://localhost:8080/"
        }
      },
      "source": [
        "set1.difference(set2)"
      ],
      "execution_count": 85,
      "outputs": [
        {
          "output_type": "execute_result",
          "data": {
            "text/plain": [
              "{0, 1}"
            ]
          },
          "metadata": {},
          "execution_count": 85
        }
      ]
    },
    {
      "cell_type": "code",
      "metadata": {
        "id": "G0-JLUmfXbbU",
        "outputId": "0a2f6ebd-4f8b-4a50-f1b8-235f6b5c7a01",
        "colab": {
          "base_uri": "https://localhost:8080/"
        }
      },
      "source": [
        "set1.issubset(set2)"
      ],
      "execution_count": 86,
      "outputs": [
        {
          "output_type": "execute_result",
          "data": {
            "text/plain": [
              "False"
            ]
          },
          "metadata": {},
          "execution_count": 86
        }
      ]
    },
    {
      "cell_type": "code",
      "metadata": {
        "id": "55PHfz5kXbbU"
      },
      "source": [
        ""
      ],
      "execution_count": null,
      "outputs": []
    }
  ]
}